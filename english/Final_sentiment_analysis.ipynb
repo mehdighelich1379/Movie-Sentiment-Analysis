{
 "cells": [
  {
   "cell_type": "markdown",
   "metadata": {},
   "source": [
    "<font size=\"3\">Importing Required Libraries\n",
    "\n",
    "In this section, we import the necessary libraries for data handling, visualization, preprocessing, and building the deep learning model.</font>"
   ]
  },
  {
   "cell_type": "code",
   "execution_count": 1,
   "metadata": {},
   "outputs": [],
   "source": [
    "import numpy as np\n",
    "import os\n",
    "from nltk.corpus import stopwords\n",
    "from nltk import word_tokenize\n",
    "from string import punctuation\n",
    "import random\n",
    "from sklearn.metrics import recall_score , precision_score , f1_score\n",
    "from tensorflow.keras.preprocessing.text import Tokenizer\n",
    "from tensorflow.keras.preprocessing.sequence import pad_sequences\n",
    "from tensorflow.keras.models import Model\n",
    "from tensorflow.keras.layers import Input, Dense, Flatten, Embedding, Conv1D, MaxPool1D, Dropout , LSTM\n",
    "from tensorflow.keras.layers import concatenate\n",
    "from tensorflow.keras.callbacks import ModelCheckpoint , EarlyStopping , ReduceLROnPlateau\n",
    "from tensorflow.keras.optimizers import Adam\n",
    "from tensorflow.keras.models import load_model , Sequential\n",
    "import joblib"
   ]
  },
  {
   "cell_type": "code",
   "execution_count": 2,
   "metadata": {},
   "outputs": [
    {
     "data": {
      "text/plain": [
       "{33: None,\n",
       " 34: None,\n",
       " 35: None,\n",
       " 36: None,\n",
       " 37: None,\n",
       " 38: None,\n",
       " 39: None,\n",
       " 40: None,\n",
       " 41: None,\n",
       " 42: None,\n",
       " 43: None,\n",
       " 44: None,\n",
       " 45: None,\n",
       " 46: None,\n",
       " 47: None,\n",
       " 58: None,\n",
       " 59: None,\n",
       " 60: None,\n",
       " 61: None,\n",
       " 62: None,\n",
       " 63: None,\n",
       " 64: None,\n",
       " 91: None,\n",
       " 92: None,\n",
       " 93: None,\n",
       " 94: None,\n",
       " 95: None,\n",
       " 96: None,\n",
       " 123: None,\n",
       " 124: None,\n",
       " 125: None,\n",
       " 126: None}"
      ]
     },
     "execution_count": 2,
     "metadata": {},
     "output_type": "execute_result"
    }
   ],
   "source": [
    "sm = str.maketrans('','',punctuation)\n",
    "sm"
   ]
  },
  {
   "cell_type": "code",
   "execution_count": 3,
   "metadata": {},
   "outputs": [
    {
     "data": {
      "text/plain": [
       "'hello  what is name'"
      ]
     },
     "execution_count": 3,
     "metadata": {},
     "output_type": "execute_result"
    }
   ],
   "source": [
    "my_text = 'hello ! what is name?'\n",
    "my_text.translate(sm)"
   ]
  },
  {
   "cell_type": "code",
   "execution_count": 4,
   "metadata": {},
   "outputs": [
    {
     "data": {
      "text/plain": [
       "['hello', '!', 'what', 'is', 'name', '?']"
      ]
     },
     "execution_count": 4,
     "metadata": {},
     "output_type": "execute_result"
    }
   ],
   "source": [
    "word_tokenize(my_text)"
   ]
  },
  {
   "cell_type": "code",
   "execution_count": 5,
   "metadata": {},
   "outputs": [
    {
     "data": {
      "text/plain": [
       "['a',\n",
       " 'about',\n",
       " 'above',\n",
       " 'after',\n",
       " 'again',\n",
       " 'against',\n",
       " 'ain',\n",
       " 'all',\n",
       " 'am',\n",
       " 'an',\n",
       " 'and',\n",
       " 'any',\n",
       " 'are',\n",
       " 'aren',\n",
       " \"aren't\",\n",
       " 'as',\n",
       " 'at',\n",
       " 'be',\n",
       " 'because',\n",
       " 'been',\n",
       " 'before',\n",
       " 'being',\n",
       " 'below',\n",
       " 'between',\n",
       " 'both',\n",
       " 'but',\n",
       " 'by',\n",
       " 'can',\n",
       " 'couldn',\n",
       " \"couldn't\",\n",
       " 'd',\n",
       " 'did',\n",
       " 'didn',\n",
       " \"didn't\",\n",
       " 'do',\n",
       " 'does',\n",
       " 'doesn',\n",
       " \"doesn't\",\n",
       " 'doing',\n",
       " 'don',\n",
       " \"don't\",\n",
       " 'down',\n",
       " 'during',\n",
       " 'each',\n",
       " 'few',\n",
       " 'for',\n",
       " 'from',\n",
       " 'further',\n",
       " 'had',\n",
       " 'hadn',\n",
       " \"hadn't\",\n",
       " 'has',\n",
       " 'hasn',\n",
       " \"hasn't\",\n",
       " 'have',\n",
       " 'haven',\n",
       " \"haven't\",\n",
       " 'having',\n",
       " 'he',\n",
       " \"he'd\",\n",
       " \"he'll\",\n",
       " 'her',\n",
       " 'here',\n",
       " 'hers',\n",
       " 'herself',\n",
       " \"he's\",\n",
       " 'him',\n",
       " 'himself',\n",
       " 'his',\n",
       " 'how',\n",
       " 'i',\n",
       " \"i'd\",\n",
       " 'if',\n",
       " \"i'll\",\n",
       " \"i'm\",\n",
       " 'in',\n",
       " 'into',\n",
       " 'is',\n",
       " 'isn',\n",
       " \"isn't\",\n",
       " 'it',\n",
       " \"it'd\",\n",
       " \"it'll\",\n",
       " \"it's\",\n",
       " 'its',\n",
       " 'itself',\n",
       " \"i've\",\n",
       " 'just',\n",
       " 'll',\n",
       " 'm',\n",
       " 'ma',\n",
       " 'me',\n",
       " 'mightn',\n",
       " \"mightn't\",\n",
       " 'more',\n",
       " 'most',\n",
       " 'mustn',\n",
       " \"mustn't\",\n",
       " 'my',\n",
       " 'myself',\n",
       " 'needn',\n",
       " \"needn't\",\n",
       " 'no',\n",
       " 'nor',\n",
       " 'not',\n",
       " 'now',\n",
       " 'o',\n",
       " 'of',\n",
       " 'off',\n",
       " 'on',\n",
       " 'once',\n",
       " 'only',\n",
       " 'or',\n",
       " 'other',\n",
       " 'our',\n",
       " 'ours',\n",
       " 'ourselves',\n",
       " 'out',\n",
       " 'over',\n",
       " 'own',\n",
       " 're',\n",
       " 's',\n",
       " 'same',\n",
       " 'shan',\n",
       " \"shan't\",\n",
       " 'she',\n",
       " \"she'd\",\n",
       " \"she'll\",\n",
       " \"she's\",\n",
       " 'should',\n",
       " 'shouldn',\n",
       " \"shouldn't\",\n",
       " \"should've\",\n",
       " 'so',\n",
       " 'some',\n",
       " 'such',\n",
       " 't',\n",
       " 'than',\n",
       " 'that',\n",
       " \"that'll\",\n",
       " 'the',\n",
       " 'their',\n",
       " 'theirs',\n",
       " 'them',\n",
       " 'themselves',\n",
       " 'then',\n",
       " 'there',\n",
       " 'these',\n",
       " 'they',\n",
       " \"they'd\",\n",
       " \"they'll\",\n",
       " \"they're\",\n",
       " \"they've\",\n",
       " 'this',\n",
       " 'those',\n",
       " 'through',\n",
       " 'to',\n",
       " 'too',\n",
       " 'under',\n",
       " 'until',\n",
       " 'up',\n",
       " 've',\n",
       " 'very',\n",
       " 'was',\n",
       " 'wasn',\n",
       " \"wasn't\",\n",
       " 'we',\n",
       " \"we'd\",\n",
       " \"we'll\",\n",
       " \"we're\",\n",
       " 'were',\n",
       " 'weren',\n",
       " \"weren't\",\n",
       " \"we've\",\n",
       " 'what',\n",
       " 'when',\n",
       " 'where',\n",
       " 'which',\n",
       " 'while',\n",
       " 'who',\n",
       " 'whom',\n",
       " 'why',\n",
       " 'will',\n",
       " 'with',\n",
       " 'won',\n",
       " \"won't\",\n",
       " 'wouldn',\n",
       " \"wouldn't\",\n",
       " 'y',\n",
       " 'you',\n",
       " \"you'd\",\n",
       " \"you'll\",\n",
       " 'your',\n",
       " \"you're\",\n",
       " 'yours',\n",
       " 'yourself',\n",
       " 'yourselves',\n",
       " \"you've\"]"
      ]
     },
     "execution_count": 5,
     "metadata": {},
     "output_type": "execute_result"
    }
   ],
   "source": [
    "stop_words = stopwords.words('english')\n",
    "stop_words"
   ]
  },
  {
   "cell_type": "markdown",
   "metadata": {},
   "source": [
    "<font size=\"3\">preprocessing on negative reviews</font>"
   ]
  },
  {
   "cell_type": "code",
   "execution_count": 6,
   "metadata": {},
   "outputs": [
    {
     "data": {
      "text/plain": [
       "1000"
      ]
     },
     "execution_count": 6,
     "metadata": {},
     "output_type": "execute_result"
    }
   ],
   "source": [
    "negative_documents = []\n",
    "max_len_negative = 0\n",
    "for file in os.listdir('data/neg'):\n",
    "    with open('data/neg/' + file) as f:\n",
    "        text = f.read()\n",
    "        tokens = word_tokenize(text)\n",
    "        translator = str.maketrans('','',punctuation)\n",
    "        tokens = [word.translate(translator) for word in tokens]\n",
    "        tokens = [word for word in tokens if word not in stop_words]\n",
    "        if len(tokens) > max_len_negative:\n",
    "            max_len_negative = len(tokens)\n",
    "        documents = ' '.join(tokens)\n",
    "        negative_documents.append(documents)\n",
    "len(negative_documents)"
   ]
  },
  {
   "cell_type": "code",
   "execution_count": 7,
   "metadata": {},
   "outputs": [
    {
     "data": {
      "text/plain": [
       "1400"
      ]
     },
     "execution_count": 7,
     "metadata": {},
     "output_type": "execute_result"
    }
   ],
   "source": [
    "max_len_negative"
   ]
  },
  {
   "cell_type": "markdown",
   "metadata": {},
   "source": [
    "<font size=\"3\">preprocessing on positive reviews</font>\n"
   ]
  },
  {
   "cell_type": "code",
   "execution_count": 8,
   "metadata": {},
   "outputs": [
    {
     "data": {
      "text/plain": [
       "1000"
      ]
     },
     "execution_count": 8,
     "metadata": {},
     "output_type": "execute_result"
    }
   ],
   "source": [
    "positive_documents = []\n",
    "max_len_positive = 0\n",
    "for file in os.listdir('data/pos'):\n",
    "    with open('data/pos/' + file) as f:\n",
    "        text = f.read()\n",
    "        tokens = word_tokenize(text)\n",
    "        translator = str.maketrans('','' , punctuation)\n",
    "        tokens = [word.translate(translator) for word in tokens]\n",
    "        tokens = [word for word in tokens if word not in stop_words]\n",
    "        if len(tokens) > max_len_positive:\n",
    "            max_len_positive = len(tokens)\n",
    "        documents = ' '.join(tokens)\n",
    "        positive_documents.append(documents)\n",
    "len(positive_documents)"
   ]
  },
  {
   "cell_type": "code",
   "execution_count": 9,
   "metadata": {},
   "outputs": [
    {
     "data": {
      "text/plain": [
       "1693"
      ]
     },
     "execution_count": 9,
     "metadata": {},
     "output_type": "execute_result"
    }
   ],
   "source": [
    "max_len_positive"
   ]
  },
  {
   "cell_type": "code",
   "execution_count": 10,
   "metadata": {},
   "outputs": [
    {
     "data": {
      "text/plain": [
       "1693"
      ]
     },
     "execution_count": 10,
     "metadata": {},
     "output_type": "execute_result"
    }
   ],
   "source": [
    "max_len = max(max_len_negative , max_len_positive)\n",
    "max_len"
   ]
  },
  {
   "cell_type": "markdown",
   "metadata": {},
   "source": [
    "<font size=\"3\">train text</font>\n"
   ]
  },
  {
   "cell_type": "code",
   "execution_count": 11,
   "metadata": {},
   "outputs": [],
   "source": [
    "x_train = negative_documents[:800] + positive_documents[:800]"
   ]
  },
  {
   "cell_type": "markdown",
   "metadata": {},
   "source": [
    "<font size=\"3\">target sentiment analysis</font>\n"
   ]
  },
  {
   "cell_type": "code",
   "execution_count": 12,
   "metadata": {},
   "outputs": [
    {
     "data": {
      "text/plain": [
       "1600"
      ]
     },
     "execution_count": 12,
     "metadata": {},
     "output_type": "execute_result"
    }
   ],
   "source": [
    "y_train = [0 for _ in range(800)] + [1 for _ in range(800)]\n",
    "len(y_train)"
   ]
  },
  {
   "cell_type": "markdown",
   "metadata": {},
   "source": [
    "<font size=\"3\">test text</font>\n"
   ]
  },
  {
   "cell_type": "code",
   "execution_count": 13,
   "metadata": {},
   "outputs": [
    {
     "data": {
      "text/plain": [
       "400"
      ]
     },
     "execution_count": 13,
     "metadata": {},
     "output_type": "execute_result"
    }
   ],
   "source": [
    "x_test =negative_documents[800:] +  positive_documents[800:]\n",
    "len(x_test)"
   ]
  },
  {
   "cell_type": "markdown",
   "metadata": {},
   "source": [
    "<font size=\"3\">test data target sentiment analysis</font>\n"
   ]
  },
  {
   "cell_type": "code",
   "execution_count": 14,
   "metadata": {},
   "outputs": [
    {
     "data": {
      "text/plain": [
       "400"
      ]
     },
     "execution_count": 14,
     "metadata": {},
     "output_type": "execute_result"
    }
   ],
   "source": [
    "y_test = [0 for _ in range(200)] + [1 for _ in range(200)]\n",
    "len(y_test)"
   ]
  },
  {
   "cell_type": "markdown",
   "metadata": {},
   "source": [
    "<font size=3>Tokenizer Function Documentation\n",
    "\n",
    "The Tokenizer function from Keras is used to process text data for deep learning models, particularly in the context of natural language processing (NLP). It converts text into sequences of integers, which are easier for models to process. Below is a detailed explanation of the steps and workflow for this process.\n",
    "\n",
    "Process:\n",
    "\n",
    "1. Tokenizer(): This initializes the tokenizer object from Keras.\n",
    "\n",
    "Purpose: Prepares the tokenizer for processing text. It is responsible for tokenizing text into words and converting these words into integers.\n",
    "\n",
    "\n",
    "\n",
    "2. fit_on_texts(x_train): This method processes the x_train data and creates an internal word index that maps each word to a unique integer.</font>"
   ]
  },
  {
   "cell_type": "code",
   "execution_count": 15,
   "metadata": {},
   "outputs": [
    {
     "data": {
      "text/plain": [
       "['tokenizer.joblib']"
      ]
     },
     "execution_count": 15,
     "metadata": {},
     "output_type": "execute_result"
    }
   ],
   "source": [
    "tokenizer = Tokenizer()\n",
    "tokenizer.fit_on_texts(x_train)\n",
    "joblib.dump(value=tokenizer , filename='tokenizer.joblib')"
   ]
  },
  {
   "cell_type": "code",
   "execution_count": 16,
   "metadata": {},
   "outputs": [
    {
     "data": {
      "text/plain": [
       "{'film': 1,\n",
       " 'nt': 2,\n",
       " 'movie': 3,\n",
       " 'one': 4,\n",
       " 'like': 5,\n",
       " 'even': 6,\n",
       " 'good': 7,\n",
       " 'time': 8,\n",
       " 'would': 9,\n",
       " 'story': 10,\n",
       " 'much': 11,\n",
       " 'also': 12,\n",
       " 'character': 13,\n",
       " 'get': 14,\n",
       " 'characters': 15,\n",
       " 'two': 16,\n",
       " 'first': 17,\n",
       " 'see': 18,\n",
       " 'way': 19,\n",
       " 'well': 20,\n",
       " 'could': 21,\n",
       " 'really': 22,\n",
       " 'make': 23,\n",
       " 'little': 24,\n",
       " 'films': 25,\n",
       " 'life': 26,\n",
       " 'plot': 27,\n",
       " 'people': 28,\n",
       " 'bad': 29,\n",
       " 'scene': 30,\n",
       " 'best': 31,\n",
       " 'man': 32,\n",
       " 'never': 33,\n",
       " 'new': 34,\n",
       " 'scenes': 35,\n",
       " 'many': 36,\n",
       " 'know': 37,\n",
       " 'movies': 38,\n",
       " 'another': 39,\n",
       " 'great': 40,\n",
       " 'director': 41,\n",
       " 'action': 42,\n",
       " 'go': 43,\n",
       " 'love': 44,\n",
       " 'us': 45,\n",
       " 'end': 46,\n",
       " 'back': 47,\n",
       " 'something': 48,\n",
       " 'still': 49,\n",
       " 'seems': 50,\n",
       " 'work': 51,\n",
       " 'world': 52,\n",
       " 'made': 53,\n",
       " 'however': 54,\n",
       " 'makes': 55,\n",
       " 'big': 56,\n",
       " 'every': 57,\n",
       " 'though': 58,\n",
       " 'better': 59,\n",
       " 'enough': 60,\n",
       " 'audience': 61,\n",
       " 'seen': 62,\n",
       " 'real': 63,\n",
       " 'around': 64,\n",
       " 'performance': 65,\n",
       " 'take': 66,\n",
       " 'going': 67,\n",
       " 'think': 68,\n",
       " 'may': 69,\n",
       " 'role': 70,\n",
       " 'gets': 71,\n",
       " 'things': 72,\n",
       " 'actually': 73,\n",
       " 'years': 74,\n",
       " 'almost': 75,\n",
       " 'last': 76,\n",
       " 'look': 77,\n",
       " 'thing': 78,\n",
       " 'script': 79,\n",
       " 'nothing': 80,\n",
       " 'although': 81,\n",
       " 'funny': 82,\n",
       " 'comedy': 83,\n",
       " 'right': 84,\n",
       " 'say': 85,\n",
       " 'find': 86,\n",
       " 'since': 87,\n",
       " 'fact': 88,\n",
       " 'played': 89,\n",
       " 'cast': 90,\n",
       " 'john': 91,\n",
       " 'plays': 92,\n",
       " 'come': 93,\n",
       " 'long': 94,\n",
       " 'old': 95,\n",
       " 'ever': 96,\n",
       " 'show': 97,\n",
       " 'year': 98,\n",
       " 'young': 99,\n",
       " 'comes': 100,\n",
       " 'without': 101,\n",
       " 'part': 102,\n",
       " 'least': 103,\n",
       " 'lot': 104,\n",
       " 'actors': 105,\n",
       " 'acting': 106,\n",
       " 'star': 107,\n",
       " 'original': 108,\n",
       " 'point': 109,\n",
       " 'family': 110,\n",
       " 'away': 111,\n",
       " 'course': 112,\n",
       " 'takes': 113,\n",
       " 'goes': 114,\n",
       " 'guy': 115,\n",
       " 'quite': 116,\n",
       " 'might': 117,\n",
       " 'must': 118,\n",
       " 'minutes': 119,\n",
       " 'interesting': 120,\n",
       " 'ca': 121,\n",
       " 'anything': 122,\n",
       " 'rather': 123,\n",
       " 'three': 124,\n",
       " 'screen': 125,\n",
       " 'day': 126,\n",
       " 'effects': 127,\n",
       " 'far': 128,\n",
       " 'place': 129,\n",
       " 'yet': 130,\n",
       " 'watch': 131,\n",
       " 'seem': 132,\n",
       " 'fun': 133,\n",
       " 'wife': 134,\n",
       " 'home': 135,\n",
       " 'picture': 136,\n",
       " 'special': 137,\n",
       " 'kind': 138,\n",
       " 'trying': 139,\n",
       " 'always': 140,\n",
       " 'instead': 141,\n",
       " 'times': 142,\n",
       " 'series': 143,\n",
       " 'making': 144,\n",
       " 'woman': 145,\n",
       " 'give': 146,\n",
       " 'want': 147,\n",
       " 'sense': 148,\n",
       " 'job': 149,\n",
       " 'american': 150,\n",
       " 'pretty': 151,\n",
       " 'bit': 152,\n",
       " 'along': 153,\n",
       " 'men': 154,\n",
       " 'actor': 155,\n",
       " 'help': 156,\n",
       " 'hollywood': 157,\n",
       " 'becomes': 158,\n",
       " 'together': 159,\n",
       " 'probably': 160,\n",
       " 'set': 161,\n",
       " 'become': 162,\n",
       " 'money': 163,\n",
       " 'everything': 164,\n",
       " 'black': 165,\n",
       " 'whole': 166,\n",
       " 'given': 167,\n",
       " 'sure': 168,\n",
       " 'hard': 169,\n",
       " 'gives': 170,\n",
       " 'high': 171,\n",
       " 'dialogue': 172,\n",
       " 'watching': 173,\n",
       " 'father': 174,\n",
       " 'everyone': 175,\n",
       " 'got': 176,\n",
       " 'wants': 177,\n",
       " 'music': 178,\n",
       " 'death': 179,\n",
       " 'feel': 180,\n",
       " 'perhaps': 181,\n",
       " 'done': 182,\n",
       " 'sex': 183,\n",
       " 'less': 184,\n",
       " 'looks': 185,\n",
       " 'next': 186,\n",
       " 'play': 187,\n",
       " 'especially': 188,\n",
       " 'james': 189,\n",
       " 'moments': 190,\n",
       " 'different': 191,\n",
       " 'anyone': 192,\n",
       " 'rest': 193,\n",
       " 'whose': 194,\n",
       " 'reason': 195,\n",
       " 'case': 196,\n",
       " 'girl': 197,\n",
       " '2': 198,\n",
       " 'couple': 199,\n",
       " 'simply': 200,\n",
       " 'performances': 201,\n",
       " 'completely': 202,\n",
       " 'several': 203,\n",
       " 'mind': 204,\n",
       " 'mother': 205,\n",
       " 'left': 206,\n",
       " 'city': 207,\n",
       " 'lost': 208,\n",
       " 'horror': 209,\n",
       " 'looking': 210,\n",
       " 'put': 211,\n",
       " 'shows': 212,\n",
       " 'alien': 213,\n",
       " 'problem': 214,\n",
       " 'human': 215,\n",
       " 'humor': 216,\n",
       " 'main': 217,\n",
       " 'let': 218,\n",
       " 'evil': 219,\n",
       " 'ending': 220,\n",
       " 'michael': 221,\n",
       " 'getting': 222,\n",
       " 'someone': 223,\n",
       " 'line': 224,\n",
       " 'turns': 225,\n",
       " 'true': 226,\n",
       " 'small': 227,\n",
       " 'entire': 228,\n",
       " 'thought': 229,\n",
       " 'friend': 230,\n",
       " 'either': 231,\n",
       " 'else': 232,\n",
       " 'certainly': 233,\n",
       " 'school': 234,\n",
       " 'final': 235,\n",
       " 'town': 236,\n",
       " 'night': 237,\n",
       " 'use': 238,\n",
       " 'half': 239,\n",
       " 'idea': 240,\n",
       " 'found': 241,\n",
       " 'later': 242,\n",
       " 'comic': 243,\n",
       " 'begins': 244,\n",
       " 'sequence': 245,\n",
       " 'david': 246,\n",
       " 'wrong': 247,\n",
       " 'dead': 248,\n",
       " 'based': 249,\n",
       " 'friends': 250,\n",
       " 'stars': 251,\n",
       " 'believe': 252,\n",
       " 'playing': 253,\n",
       " 'soon': 254,\n",
       " 'tv': 255,\n",
       " 'keep': 256,\n",
       " 'group': 257,\n",
       " 'unfortunately': 258,\n",
       " 'name': 259,\n",
       " 'said': 260,\n",
       " 'called': 261,\n",
       " 'tries': 262,\n",
       " 'second': 263,\n",
       " 'often': 264,\n",
       " 'relationship': 265,\n",
       " 'war': 266,\n",
       " 'game': 267,\n",
       " 'works': 268,\n",
       " 'named': 269,\n",
       " 'finally': 270,\n",
       " 'used': 271,\n",
       " 'behind': 272,\n",
       " 'joe': 273,\n",
       " 'tell': 274,\n",
       " 'written': 275,\n",
       " 'maybe': 276,\n",
       " 'despite': 277,\n",
       " 'children': 278,\n",
       " 'perfect': 279,\n",
       " 'able': 280,\n",
       " 'nice': 281,\n",
       " 'finds': 282,\n",
       " 'house': 283,\n",
       " 'seeing': 284,\n",
       " 'fight': 285,\n",
       " 'son': 286,\n",
       " 'past': 287,\n",
       " 'turn': 288,\n",
       " 'mr': 289,\n",
       " 'person': 290,\n",
       " 'including': 291,\n",
       " 'head': 292,\n",
       " 'kids': 293,\n",
       " 'book': 294,\n",
       " 'running': 295,\n",
       " 'hand': 296,\n",
       " 'shot': 297,\n",
       " 'boy': 298,\n",
       " 'run': 299,\n",
       " 'side': 300,\n",
       " 'car': 301,\n",
       " 'daughter': 302,\n",
       " 'supposed': 303,\n",
       " 'face': 304,\n",
       " 'camera': 305,\n",
       " 'style': 306,\n",
       " 'kevin': 307,\n",
       " 'need': 308,\n",
       " 'dark': 309,\n",
       " 'directed': 310,\n",
       " 'days': 311,\n",
       " 'hour': 312,\n",
       " 'live': 313,\n",
       " 'worth': 314,\n",
       " 'example': 315,\n",
       " 'summer': 316,\n",
       " 'start': 317,\n",
       " 'team': 318,\n",
       " 'care': 319,\n",
       " 'moment': 320,\n",
       " 'jack': 321,\n",
       " 'lives': 322,\n",
       " 'review': 323,\n",
       " 'direction': 324,\n",
       " 'starts': 325,\n",
       " 'entertaining': 326,\n",
       " 'video': 327,\n",
       " 'lines': 328,\n",
       " 'disney': 329,\n",
       " 'upon': 330,\n",
       " 'opening': 331,\n",
       " 'major': 332,\n",
       " 'worst': 333,\n",
       " 'beautiful': 334,\n",
       " 'nearly': 335,\n",
       " 'version': 336,\n",
       " 'sequences': 337,\n",
       " 'matter': 338,\n",
       " 'try': 339,\n",
       " 'production': 340,\n",
       " 'already': 341,\n",
       " 'short': 342,\n",
       " 'eyes': 343,\n",
       " 'full': 344,\n",
       " 'violence': 345,\n",
       " 'earth': 346,\n",
       " 'early': 347,\n",
       " 'jackie': 348,\n",
       " 'others': 349,\n",
       " 'classic': 350,\n",
       " 'screenplay': 351,\n",
       " 'knows': 352,\n",
       " 'order': 353,\n",
       " 'fine': 354,\n",
       " 'title': 355,\n",
       " 'boring': 356,\n",
       " 'exactly': 357,\n",
       " 'throughout': 358,\n",
       " 'killer': 359,\n",
       " 'women': 360,\n",
       " 'kill': 361,\n",
       " 'act': 362,\n",
       " 'scream': 363,\n",
       " 'hit': 364,\n",
       " 'top': 365,\n",
       " 'problems': 366,\n",
       " 'obvious': 367,\n",
       " 'beginning': 368,\n",
       " 'question': 369,\n",
       " 'white': 370,\n",
       " 'tom': 371,\n",
       " 'space': 372,\n",
       " 'ship': 373,\n",
       " 'truly': 374,\n",
       " 'deep': 375,\n",
       " 'body': 376,\n",
       " 'simple': 377,\n",
       " 'save': 378,\n",
       " 'drama': 379,\n",
       " 'roles': 380,\n",
       " 'peter': 381,\n",
       " 'sort': 382,\n",
       " 'yes': 383,\n",
       " 'guys': 384,\n",
       " 'known': 385,\n",
       " 'supporting': 386,\n",
       " 'novel': 387,\n",
       " 'dog': 388,\n",
       " 'ends': 389,\n",
       " 'saw': 390,\n",
       " 'worse': 391,\n",
       " 'room': 392,\n",
       " 'child': 393,\n",
       " 'genre': 394,\n",
       " 'hope': 395,\n",
       " 'sometimes': 396,\n",
       " 'wo': 397,\n",
       " 'happens': 398,\n",
       " 'van': 399,\n",
       " 'robert': 400,\n",
       " 'heart': 401,\n",
       " 'york': 402,\n",
       " 'hero': 403,\n",
       " 'lead': 404,\n",
       " 'murder': 405,\n",
       " 'planet': 406,\n",
       " 'stupid': 407,\n",
       " 'extremely': 408,\n",
       " 'thriller': 409,\n",
       " 'strong': 410,\n",
       " 'wonder': 411,\n",
       " 'four': 412,\n",
       " 'five': 413,\n",
       " 'lee': 414,\n",
       " 'particularly': 415,\n",
       " 'attempt': 416,\n",
       " 'coming': 417,\n",
       " 'tells': 418,\n",
       " 'quickly': 419,\n",
       " 'appears': 420,\n",
       " 'husband': 421,\n",
       " 'jokes': 422,\n",
       " 'manages': 423,\n",
       " 'says': 424,\n",
       " 'police': 425,\n",
       " 'voice': 426,\n",
       " 'brother': 427,\n",
       " 'sound': 428,\n",
       " 'stop': 429,\n",
       " 'sets': 430,\n",
       " 'close': 431,\n",
       " 'involved': 432,\n",
       " 'eventually': 433,\n",
       " 'taking': 434,\n",
       " 'wild': 435,\n",
       " 'possible': 436,\n",
       " 'level': 437,\n",
       " 'god': 438,\n",
       " 'involving': 439,\n",
       " 'result': 440,\n",
       " 'aliens': 441,\n",
       " 'among': 442,\n",
       " 'fiction': 443,\n",
       " 'future': 444,\n",
       " 'alone': 445,\n",
       " 'late': 446,\n",
       " 'fall': 447,\n",
       " 'emotional': 448,\n",
       " 'smith': 449,\n",
       " 'mostly': 450,\n",
       " 'material': 451,\n",
       " 'living': 452,\n",
       " 'bring': 453,\n",
       " 'computer': 454,\n",
       " 'hours': 455,\n",
       " 'career': 456,\n",
       " 'attention': 457,\n",
       " 'de': 458,\n",
       " 'elements': 459,\n",
       " 'fans': 460,\n",
       " 'experience': 461,\n",
       " 'george': 462,\n",
       " 'mean': 463,\n",
       " 'battle': 464,\n",
       " 'romantic': 465,\n",
       " 'theater': 466,\n",
       " 'happen': 467,\n",
       " 'obviously': 468,\n",
       " 'number': 469,\n",
       " 'piece': 470,\n",
       " 'paul': 471,\n",
       " 'leads': 472,\n",
       " 'hell': 473,\n",
       " 'guess': 474,\n",
       " 'television': 475,\n",
       " 'chance': 476,\n",
       " 'note': 477,\n",
       " '1': 478,\n",
       " 'king': 479,\n",
       " 'features': 480,\n",
       " 'taken': 481,\n",
       " 'lack': 482,\n",
       " 'needs': 483,\n",
       " 'usually': 484,\n",
       " 'feature': 485,\n",
       " 'meet': 486,\n",
       " 'feels': 487,\n",
       " 'chris': 488,\n",
       " 'success': 489,\n",
       " 'enjoy': 490,\n",
       " 'crew': 491,\n",
       " 'falls': 492,\n",
       " 'leave': 493,\n",
       " 'science': 494,\n",
       " 'meets': 495,\n",
       " 'poor': 496,\n",
       " 'interest': 497,\n",
       " 'form': 498,\n",
       " 'talk': 499,\n",
       " 'killed': 500,\n",
       " 'dr': 501,\n",
       " 'word': 502,\n",
       " 'across': 503,\n",
       " 'none': 504,\n",
       " 'robin': 505,\n",
       " 'laugh': 506,\n",
       " 'apparently': 507,\n",
       " 'single': 508,\n",
       " 'words': 509,\n",
       " 'mission': 510,\n",
       " 'attempts': 511,\n",
       " 'deal': 512,\n",
       " 'talent': 513,\n",
       " 'expect': 514,\n",
       " 'told': 515,\n",
       " 'batman': 516,\n",
       " 'premise': 517,\n",
       " '3': 518,\n",
       " 'impressive': 519,\n",
       " 'tale': 520,\n",
       " 'score': 521,\n",
       " 'williams': 522,\n",
       " 'laughs': 523,\n",
       " 'call': 524,\n",
       " 'parents': 525,\n",
       " 'wonderful': 526,\n",
       " 'ben': 527,\n",
       " 'sequel': 528,\n",
       " 'ryan': 529,\n",
       " 'within': 530,\n",
       " 'whether': 531,\n",
       " 'harry': 532,\n",
       " 'girls': 533,\n",
       " 'america': 534,\n",
       " 'surprise': 535,\n",
       " 'seemed': 536,\n",
       " 'oh': 537,\n",
       " 'stuff': 538,\n",
       " 'release': 539,\n",
       " 'history': 540,\n",
       " 'except': 541,\n",
       " 'reality': 542,\n",
       " 'serious': 543,\n",
       " 'cool': 544,\n",
       " 'feeling': 545,\n",
       " 'middle': 546,\n",
       " 'somehow': 547,\n",
       " 'easy': 548,\n",
       " 'difficult': 549,\n",
       " 'released': 550,\n",
       " 'oscar': 551,\n",
       " 'parts': 552,\n",
       " 'girlfriend': 553,\n",
       " 'went': 554,\n",
       " 'easily': 555,\n",
       " 'viewer': 556,\n",
       " 'local': 557,\n",
       " 'recent': 558,\n",
       " 'power': 559,\n",
       " 'surprisingly': 560,\n",
       " 'kid': 561,\n",
       " 'basically': 562,\n",
       " 'happy': 563,\n",
       " 'runs': 564,\n",
       " 'amazing': 565,\n",
       " 'complete': 566,\n",
       " 'filmmakers': 567,\n",
       " 'giving': 568,\n",
       " 'brings': 569,\n",
       " 'events': 570,\n",
       " 'forced': 571,\n",
       " 'turned': 572,\n",
       " 'general': 573,\n",
       " 'effective': 574,\n",
       " 'working': 575,\n",
       " 'ago': 576,\n",
       " 'credits': 577,\n",
       " 'return': 578,\n",
       " 'certain': 579,\n",
       " 'remember': 580,\n",
       " 'suspense': 581,\n",
       " 'change': 582,\n",
       " 'important': 583,\n",
       " 'hilarious': 584,\n",
       " 'strange': 585,\n",
       " 'using': 586,\n",
       " 'read': 587,\n",
       " 'entertainment': 588,\n",
       " 'blood': 589,\n",
       " 'art': 590,\n",
       " 'william': 591,\n",
       " 'somewhat': 592,\n",
       " 'rock': 593,\n",
       " 'figure': 594,\n",
       " 'beyond': 595,\n",
       " 'business': 596,\n",
       " 'die': 597,\n",
       " 'brilliant': 598,\n",
       " 'popular': 599,\n",
       " 'sam': 600,\n",
       " 'presence': 601,\n",
       " 'familiar': 602,\n",
       " 'similar': 603,\n",
       " 'writing': 604,\n",
       " 'came': 605,\n",
       " 'due': 606,\n",
       " 'successful': 607,\n",
       " 'latest': 608,\n",
       " 'nature': 609,\n",
       " 'giant': 610,\n",
       " 'company': 611,\n",
       " 'brothers': 612,\n",
       " 'decides': 613,\n",
       " 'anyway': 614,\n",
       " 'personal': 615,\n",
       " 'crime': 616,\n",
       " 'rich': 617,\n",
       " 'begin': 618,\n",
       " 'mystery': 619,\n",
       " 'ways': 620,\n",
       " 'type': 621,\n",
       " 'means': 622,\n",
       " 'murphy': 623,\n",
       " 'stories': 624,\n",
       " 'cinema': 625,\n",
       " 'intelligent': 626,\n",
       " 'understand': 627,\n",
       " 'trek': 628,\n",
       " 'visual': 629,\n",
       " 'carter': 630,\n",
       " 'leaving': 631,\n",
       " 'previous': 632,\n",
       " 'cut': 633,\n",
       " 'absolutely': 634,\n",
       " 'excellent': 635,\n",
       " 'towards': 636,\n",
       " 'writer': 637,\n",
       " 'red': 638,\n",
       " 'sexual': 639,\n",
       " 'definitely': 640,\n",
       " 'water': 641,\n",
       " 'create': 642,\n",
       " 'flick': 643,\n",
       " 'starring': 644,\n",
       " 'felt': 645,\n",
       " 'light': 646,\n",
       " 'uses': 647,\n",
       " 'perfectly': 648,\n",
       " '4': 649,\n",
       " 'following': 650,\n",
       " 'jim': 651,\n",
       " 'third': 652,\n",
       " 'secret': 653,\n",
       " 'predictable': 654,\n",
       " 'clear': 655,\n",
       " 'thinking': 656,\n",
       " 'add': 657,\n",
       " 'dramatic': 658,\n",
       " 'shots': 659,\n",
       " 'bill': 660,\n",
       " 'doubt': 661,\n",
       " 'project': 662,\n",
       " 'learn': 663,\n",
       " 'talking': 664,\n",
       " 'romance': 665,\n",
       " 'created': 666,\n",
       " 'ones': 667,\n",
       " 'office': 668,\n",
       " 'viewers': 669,\n",
       " 'country': 670,\n",
       " 'questions': 671,\n",
       " 'huge': 672,\n",
       " 'potential': 673,\n",
       " 'cameron': 674,\n",
       " 'powerful': 675,\n",
       " 'annoying': 676,\n",
       " 'clever': 677,\n",
       " 'chan': 678,\n",
       " 'gone': 679,\n",
       " 'situation': 680,\n",
       " 'opens': 681,\n",
       " 'effect': 682,\n",
       " 'heard': 683,\n",
       " 'quality': 684,\n",
       " 'married': 685,\n",
       " 'seriously': 686,\n",
       " 'sweet': 687,\n",
       " 'age': 688,\n",
       " 'leaves': 689,\n",
       " 'move': 690,\n",
       " 'wedding': 691,\n",
       " 'present': 692,\n",
       " 'near': 693,\n",
       " 'straight': 694,\n",
       " 'audiences': 695,\n",
       " 'actress': 696,\n",
       " 'force': 697,\n",
       " 'merely': 698,\n",
       " 'r': 699,\n",
       " 'follows': 700,\n",
       " 'mars': 701,\n",
       " 'usual': 702,\n",
       " 'prison': 703,\n",
       " 'large': 704,\n",
       " 'plan': 705,\n",
       " 'mark': 706,\n",
       " 'happened': 707,\n",
       " 'former': 708,\n",
       " 'animated': 709,\n",
       " 'enjoyable': 710,\n",
       " 'unlike': 711,\n",
       " 'bob': 712,\n",
       " 'likely': 713,\n",
       " 'jones': 714,\n",
       " 'saying': 715,\n",
       " 'smart': 716,\n",
       " 'motion': 717,\n",
       " 'million': 718,\n",
       " 'took': 719,\n",
       " 'bunch': 720,\n",
       " 'agent': 721,\n",
       " 'slow': 722,\n",
       " 'private': 723,\n",
       " 'fails': 724,\n",
       " 'studio': 725,\n",
       " 'escape': 726,\n",
       " 'ultimately': 727,\n",
       " 'realize': 728,\n",
       " 'dumb': 729,\n",
       " 'impossible': 730,\n",
       " 'villain': 731,\n",
       " 'break': 732,\n",
       " 'soundtrack': 733,\n",
       " 'bond': 734,\n",
       " 'scott': 735,\n",
       " 'tim': 736,\n",
       " 'points': 737,\n",
       " 'message': 738,\n",
       " 'cold': 739,\n",
       " 'immediately': 740,\n",
       " 'scary': 741,\n",
       " 'max': 742,\n",
       " 'solid': 743,\n",
       " 'pay': 744,\n",
       " 'moving': 745,\n",
       " 'cop': 746,\n",
       " 'inside': 747,\n",
       " 'martin': 748,\n",
       " 'various': 749,\n",
       " 'richard': 750,\n",
       " 'party': 751,\n",
       " 'decent': 752,\n",
       " 'follow': 753,\n",
       " 'subject': 754,\n",
       " 'allen': 755,\n",
       " 'trouble': 756,\n",
       " 'eddie': 757,\n",
       " 'chase': 758,\n",
       " 'biggest': 759,\n",
       " 'eye': 760,\n",
       " 'political': 761,\n",
       " 'brought': 762,\n",
       " 'mess': 763,\n",
       " 'overall': 764,\n",
       " 'spend': 765,\n",
       " 'truth': 766,\n",
       " 'wars': 767,\n",
       " 'frank': 768,\n",
       " 'effort': 769,\n",
       " 'woody': 770,\n",
       " 'musical': 771,\n",
       " 'credit': 772,\n",
       " 'members': 773,\n",
       " 'wait': 774,\n",
       " 'focus': 775,\n",
       " 'filled': 776,\n",
       " 'rating': 777,\n",
       " '10': 778,\n",
       " 'favorite': 779,\n",
       " 'fan': 780,\n",
       " 'appear': 781,\n",
       " 'truman': 782,\n",
       " 'english': 783,\n",
       " 'steve': 784,\n",
       " 'silly': 785,\n",
       " 'totally': 786,\n",
       " 'keeps': 787,\n",
       " 'spent': 788,\n",
       " 'dream': 789,\n",
       " 'slightly': 790,\n",
       " 'stay': 791,\n",
       " 'box': 792,\n",
       " 'moves': 793,\n",
       " 'army': 794,\n",
       " 'west': 795,\n",
       " 'animation': 796,\n",
       " 'entirely': 797,\n",
       " 'liked': 798,\n",
       " 'neither': 799,\n",
       " 'open': 800,\n",
       " 'earlier': 801,\n",
       " 'l': 802,\n",
       " 'actual': 803,\n",
       " 'drug': 804,\n",
       " 'titanic': 805,\n",
       " 'exciting': 806,\n",
       " 'park': 807,\n",
       " 'memorable': 808,\n",
       " 'element': 809,\n",
       " 'humans': 810,\n",
       " 'terrible': 811,\n",
       " 'air': 812,\n",
       " 'control': 813,\n",
       " 'lots': 814,\n",
       " 'jerry': 815,\n",
       " 'law': 816,\n",
       " 'talented': 817,\n",
       " 'gun': 818,\n",
       " 'british': 819,\n",
       " 'setting': 820,\n",
       " 'society': 821,\n",
       " 'offers': 822,\n",
       " 'simon': 823,\n",
       " 'wish': 824,\n",
       " 'fast': 825,\n",
       " 'approach': 826,\n",
       " 'otherwise': 827,\n",
       " 'brief': 828,\n",
       " 'view': 829,\n",
       " 'government': 830,\n",
       " 'teen': 831,\n",
       " 'showing': 832,\n",
       " 'ideas': 833,\n",
       " 'ask': 834,\n",
       " 'thinks': 835,\n",
       " 'song': 836,\n",
       " 'aspect': 837,\n",
       " 'suddenly': 838,\n",
       " 'greatest': 839,\n",
       " 'list': 840,\n",
       " 'sit': 841,\n",
       " 'today': 842,\n",
       " 'whatever': 843,\n",
       " 'ten': 844,\n",
       " 'cinematography': 845,\n",
       " 'bruce': 846,\n",
       " 'state': 847,\n",
       " 'ability': 848,\n",
       " 'constantly': 849,\n",
       " 'expected': 850,\n",
       " 'depth': 851,\n",
       " 'typical': 852,\n",
       " 'wanted': 853,\n",
       " 'disaster': 854,\n",
       " 'hands': 855,\n",
       " 'critics': 856,\n",
       " 'particular': 857,\n",
       " 'gave': 858,\n",
       " 'carrey': 859,\n",
       " 'modern': 860,\n",
       " 'clearly': 861,\n",
       " 'u': 862,\n",
       " 'spielberg': 863,\n",
       " 'hear': 864,\n",
       " 'ii': 865,\n",
       " 'stone': 866,\n",
       " 'meanwhile': 867,\n",
       " 'quick': 868,\n",
       " 'dull': 869,\n",
       " 'waste': 870,\n",
       " 'island': 871,\n",
       " 'purpose': 872,\n",
       " 'mary': 873,\n",
       " 'college': 874,\n",
       " 'dreams': 875,\n",
       " 'female': 876,\n",
       " 'hate': 877,\n",
       " 'outside': 878,\n",
       " 'plenty': 879,\n",
       " 'class': 880,\n",
       " 'godzilla': 881,\n",
       " 'master': 882,\n",
       " 'amount': 883,\n",
       " 'sister': 884,\n",
       " 'key': 885,\n",
       " 'tension': 886,\n",
       " 'minor': 887,\n",
       " 'indeed': 888,\n",
       " 'fear': 889,\n",
       " 'sees': 890,\n",
       " 'steven': 891,\n",
       " 'scifi': 892,\n",
       " 'situations': 893,\n",
       " 'subplot': 894,\n",
       " 'front': 895,\n",
       " 'sight': 896,\n",
       " 'ridiculous': 897,\n",
       " 'recently': 898,\n",
       " 'stand': 899,\n",
       " 'trailer': 900,\n",
       " 'killing': 901,\n",
       " 'screenwriter': 902,\n",
       " 'incredibly': 903,\n",
       " 'impact': 904,\n",
       " 'amusing': 905,\n",
       " 'somewhere': 906,\n",
       " 'beauty': 907,\n",
       " 'race': 908,\n",
       " 'grace': 909,\n",
       " 'j': 910,\n",
       " 'carry': 911,\n",
       " 'convincing': 912,\n",
       " 'puts': 913,\n",
       " 'la': 914,\n",
       " 'charm': 915,\n",
       " 'forget': 916,\n",
       " 'awful': 917,\n",
       " 'provide': 918,\n",
       " 'possibly': 919,\n",
       " 'road': 920,\n",
       " 'complex': 921,\n",
       " 'free': 922,\n",
       " 'delivers': 923,\n",
       " 'atmosphere': 924,\n",
       " 'images': 925,\n",
       " 'travolta': 926,\n",
       " 'subtle': 927,\n",
       " 'sounds': 928,\n",
       " 'telling': 929,\n",
       " 'six': 930,\n",
       " 'rated': 931,\n",
       " 'band': 932,\n",
       " 'fairly': 933,\n",
       " 'nick': 934,\n",
       " 'violent': 935,\n",
       " 'event': 936,\n",
       " 'theme': 937,\n",
       " 'mike': 938,\n",
       " 'tarzan': 939,\n",
       " 'seven': 940,\n",
       " 'provides': 941,\n",
       " 'joke': 942,\n",
       " 'e': 943,\n",
       " 'considering': 944,\n",
       " 'sent': 945,\n",
       " 'boys': 946,\n",
       " 'detective': 947,\n",
       " 'ride': 948,\n",
       " 'fire': 949,\n",
       " 'highly': 950,\n",
       " 'basic': 951,\n",
       " 'opportunity': 952,\n",
       " 'tone': 953,\n",
       " 'cheap': 954,\n",
       " 'thus': 955,\n",
       " 'appearance': 956,\n",
       " 'terrific': 957,\n",
       " 'famous': 958,\n",
       " 'language': 959,\n",
       " 'average': 960,\n",
       " 'cage': 961,\n",
       " 'doctor': 962,\n",
       " 'billy': 963,\n",
       " 'president': 964,\n",
       " 'reasons': 965,\n",
       " 'hold': 966,\n",
       " 'lawyer': 967,\n",
       " 'alive': 968,\n",
       " 'baby': 969,\n",
       " 'shown': 970,\n",
       " 'budget': 971,\n",
       " 'common': 972,\n",
       " 'occasionally': 973,\n",
       " 'image': 974,\n",
       " 'choice': 975,\n",
       " 'produced': 976,\n",
       " 'singer': 977,\n",
       " 'member': 978,\n",
       " 'onto': 979,\n",
       " 'conclusion': 980,\n",
       " 'store': 981,\n",
       " 'flat': 982,\n",
       " 'energy': 983,\n",
       " 'caught': 984,\n",
       " 'leading': 985,\n",
       " 'looked': 986,\n",
       " 'imagine': 987,\n",
       " 'b': 988,\n",
       " 'remains': 989,\n",
       " 'background': 990,\n",
       " 'club': 991,\n",
       " 'mysterious': 992,\n",
       " 'longer': 993,\n",
       " 'okay': 994,\n",
       " 'songs': 995,\n",
       " 'aside': 996,\n",
       " 'decide': 997,\n",
       " 'ready': 998,\n",
       " 'knew': 999,\n",
       " 'boss': 1000,\n",
       " ...}"
      ]
     },
     "execution_count": 16,
     "metadata": {},
     "output_type": "execute_result"
    }
   ],
   "source": [
    "tokenizer.word_index"
   ]
  },
  {
   "cell_type": "code",
   "execution_count": 17,
   "metadata": {},
   "outputs": [
    {
     "data": {
      "text/plain": [
       "40523"
      ]
     },
     "execution_count": 17,
     "metadata": {},
     "output_type": "execute_result"
    }
   ],
   "source": [
    "len(tokenizer.word_index)"
   ]
  },
  {
   "cell_type": "code",
   "execution_count": 18,
   "metadata": {},
   "outputs": [
    {
     "data": {
      "text/plain": [
       "40524"
      ]
     },
     "execution_count": 18,
     "metadata": {},
     "output_type": "execute_result"
    }
   ],
   "source": [
    "vocab_len = len(tokenizer.word_index) + 1\n",
    "vocab_len"
   ]
  },
  {
   "cell_type": "markdown",
   "metadata": {},
   "source": [
    "<font size=\"3\">texts_to_sequences Function Documentation\n",
    "\n",
    "The texts_to_sequences function from the Keras Tokenizer class is used to convert a list of texts into a list of sequences of integers. These sequences represent the tokenized form of the input texts. This process is essential for text preprocessing in natural language processing (NLP) tasks where text needs to be transformed into numerical format for machine learning models.\n",
    "\n",
    "Process:\n",
    "\n",
    "texts_to_sequences(x_train):\n",
    "\n",
    "The Tokenizer object, after being fitted on the texts (as shown in the previous fit_on_texts method), converts each word in the x_train text data into its corresponding integer index from the word index created during tokenization.\n",
    "\n",
    "The function returns a list of lists, where each inner list represents the sequence of integer tokens corresponding to each input text.</font"
   ]
  },
  {
   "cell_type": "code",
   "execution_count": 19,
   "metadata": {},
   "outputs": [
    {
     "data": {
      "text/plain": [
       "[27,\n",
       " 16,\n",
       " 831,\n",
       " 4229,\n",
       " 43,\n",
       " 2237,\n",
       " 751,\n",
       " 3407,\n",
       " 1381,\n",
       " 14,\n",
       " 1215,\n",
       " 4,\n",
       " 384,\n",
       " 1171,\n",
       " 553,\n",
       " 1406,\n",
       " 18,\n",
       " 26,\n",
       " 4060,\n",
       " 512,\n",
       " 131,\n",
       " 3,\n",
       " 10267,\n",
       " 86,\n",
       " 1978,\n",
       " 12926,\n",
       " 3,\n",
       " 831,\n",
       " 1258,\n",
       " 2049,\n",
       " 544,\n",
       " 240,\n",
       " 1559,\n",
       " 29,\n",
       " 3635,\n",
       " 55,\n",
       " 323,\n",
       " 6,\n",
       " 3636,\n",
       " 4,\n",
       " 1071,\n",
       " 87,\n",
       " 1185,\n",
       " 9281,\n",
       " 25,\n",
       " 416,\n",
       " 732,\n",
       " 6524,\n",
       " 763,\n",
       " 292,\n",
       " 208,\n",
       " 3516,\n",
       " 7379,\n",
       " 7,\n",
       " 29,\n",
       " 620,\n",
       " 144,\n",
       " 2774,\n",
       " 25,\n",
       " 1584,\n",
       " 2,\n",
       " 18158,\n",
       " 4,\n",
       " 6163,\n",
       " 132,\n",
       " 481,\n",
       " 151,\n",
       " 3408,\n",
       " 1200,\n",
       " 2566,\n",
       " 2238,\n",
       " 366,\n",
       " 3,\n",
       " 20,\n",
       " 217,\n",
       " 214,\n",
       " 200,\n",
       " 7380,\n",
       " 325,\n",
       " 1072,\n",
       " 18159,\n",
       " 1125,\n",
       " 52,\n",
       " 61,\n",
       " 978,\n",
       " 240,\n",
       " 67,\n",
       " 875,\n",
       " 15,\n",
       " 417,\n",
       " 47,\n",
       " 248,\n",
       " 349,\n",
       " 77,\n",
       " 5,\n",
       " 248,\n",
       " 585,\n",
       " 12927,\n",
       " 15063,\n",
       " 23926,\n",
       " 758,\n",
       " 35,\n",
       " 4230,\n",
       " 1278,\n",
       " 72,\n",
       " 467,\n",
       " 200,\n",
       " 1887,\n",
       " 2435,\n",
       " 2,\n",
       " 204,\n",
       " 139,\n",
       " 8547,\n",
       " 1,\n",
       " 57,\n",
       " 146,\n",
       " 2567,\n",
       " 14,\n",
       " 138,\n",
       " 4061,\n",
       " 1,\n",
       " 759,\n",
       " 214,\n",
       " 468,\n",
       " 176,\n",
       " 56,\n",
       " 653,\n",
       " 2861,\n",
       " 50,\n",
       " 147,\n",
       " 2861,\n",
       " 202,\n",
       " 235,\n",
       " 413,\n",
       " 119,\n",
       " 23,\n",
       " 72,\n",
       " 326,\n",
       " 2862,\n",
       " 6,\n",
       " 1609,\n",
       " 5025,\n",
       " 22,\n",
       " 1279,\n",
       " 102,\n",
       " 4062,\n",
       " 5026,\n",
       " 1497,\n",
       " 5,\n",
       " 73,\n",
       " 3764,\n",
       " 1888,\n",
       " 109,\n",
       " 10268,\n",
       " 317,\n",
       " 23,\n",
       " 24,\n",
       " 152,\n",
       " 148,\n",
       " 49,\n",
       " 2,\n",
       " 23,\n",
       " 1,\n",
       " 326,\n",
       " 474,\n",
       " 1735,\n",
       " 224,\n",
       " 38,\n",
       " 5,\n",
       " 140,\n",
       " 23,\n",
       " 168,\n",
       " 61,\n",
       " 6,\n",
       " 167,\n",
       " 653,\n",
       " 18160,\n",
       " 1696,\n",
       " 52,\n",
       " 2093,\n",
       " 463,\n",
       " 832,\n",
       " 6903,\n",
       " 8548,\n",
       " 295,\n",
       " 111,\n",
       " 3909,\n",
       " 1450,\n",
       " 119,\n",
       " 358,\n",
       " 3,\n",
       " 1610,\n",
       " 3308,\n",
       " 994,\n",
       " 14,\n",
       " 28,\n",
       " 3052,\n",
       " 2,\n",
       " 37,\n",
       " 22,\n",
       " 308,\n",
       " 18,\n",
       " 568,\n",
       " 45,\n",
       " 191,\n",
       " 35,\n",
       " 2863,\n",
       " 2239,\n",
       " 10268,\n",
       " 67,\n",
       " 3,\n",
       " 507,\n",
       " 725,\n",
       " 719,\n",
       " 1,\n",
       " 111,\n",
       " 41,\n",
       " 12928,\n",
       " 212,\n",
       " 117,\n",
       " 151,\n",
       " 752,\n",
       " 831,\n",
       " 12926,\n",
       " 3,\n",
       " 906,\n",
       " 474,\n",
       " 2500,\n",
       " 1140,\n",
       " 1611,\n",
       " 178,\n",
       " 327,\n",
       " 24,\n",
       " 1363,\n",
       " 9,\n",
       " 23,\n",
       " 148,\n",
       " 105,\n",
       " 151,\n",
       " 7,\n",
       " 102,\n",
       " 81,\n",
       " 2296,\n",
       " 7906,\n",
       " 536,\n",
       " 253,\n",
       " 1823,\n",
       " 13,\n",
       " 150,\n",
       " 907,\n",
       " 34,\n",
       " 5264,\n",
       " 759,\n",
       " 4573,\n",
       " 43,\n",
       " 8548,\n",
       " 1471,\n",
       " 358,\n",
       " 228,\n",
       " 1,\n",
       " 73,\n",
       " 545,\n",
       " 13,\n",
       " 23927,\n",
       " 764,\n",
       " 1,\n",
       " 2,\n",
       " 1889,\n",
       " 2,\n",
       " 2341,\n",
       " 1498,\n",
       " 1186,\n",
       " 18161,\n",
       " 487,\n",
       " 151,\n",
       " 6904,\n",
       " 9282,\n",
       " 277,\n",
       " 151,\n",
       " 544,\n",
       " 220,\n",
       " 1664,\n",
       " 12929,\n",
       " 605,\n",
       " 537,\n",
       " 19,\n",
       " 209,\n",
       " 831,\n",
       " 1560,\n",
       " 643,\n",
       " 18162,\n",
       " 77,\n",
       " 19,\n",
       " 223,\n",
       " 507,\n",
       " 6164,\n",
       " 394,\n",
       " 49,\n",
       " 1085,\n",
       " 293,\n",
       " 12,\n",
       " 3218,\n",
       " 340,\n",
       " 16,\n",
       " 74,\n",
       " 576,\n",
       " 1407,\n",
       " 6165,\n",
       " 96,\n",
       " 87,\n",
       " 843,\n",
       " 3126,\n",
       " 3637,\n",
       " 417,\n",
       " 2094,\n",
       " 7381,\n",
       " 1043,\n",
       " 518,\n",
       " 2138,\n",
       " 1499,\n",
       " 1561,\n",
       " 198,\n",
       " 2138,\n",
       " 2240,\n",
       " 4231,\n",
       " 2240,\n",
       " 6525,\n",
       " 8549,\n",
       " 208,\n",
       " 3516,\n",
       " 7382,\n",
       " 7379,\n",
       " 7382,\n",
       " 349,\n",
       " 4231,\n",
       " 6905,\n",
       " 5832,\n",
       " 2241]"
      ]
     },
     "execution_count": 19,
     "metadata": {},
     "output_type": "execute_result"
    }
   ],
   "source": [
    "encoded = tokenizer.texts_to_sequences(x_train)\n",
    "encoded[0]"
   ]
  },
  {
   "cell_type": "markdown",
   "metadata": {},
   "source": [
    "<font size=\"3\">pad sequence</font>"
   ]
  },
  {
   "cell_type": "code",
   "execution_count": 20,
   "metadata": {},
   "outputs": [
    {
     "data": {
      "text/plain": [
       "array([[   27,    16,   831, ...,     0,     0,     0],\n",
       "       [  563,  2952,   868, ...,     0,     0,     0],\n",
       "       [   38,     5,    23, ...,     0,     0,     0],\n",
       "       ...,\n",
       "       [   62,   203,    36, ...,     0,     0,     0],\n",
       "       [22772,  4546,    17, ...,     0,     0,     0],\n",
       "       [ 1784,   155,  6868, ...,     0,     0,     0]])"
      ]
     },
     "execution_count": 20,
     "metadata": {},
     "output_type": "execute_result"
    }
   ],
   "source": [
    "padded = pad_sequences(encoded , maxlen=max_len , padding='post')\n",
    "padded"
   ]
  },
  {
   "cell_type": "code",
   "execution_count": 21,
   "metadata": {},
   "outputs": [
    {
     "data": {
      "text/plain": [
       "(1600, 1693)"
      ]
     },
     "execution_count": 21,
     "metadata": {},
     "output_type": "execute_result"
    }
   ],
   "source": [
    "padded.shape"
   ]
  },
  {
   "cell_type": "markdown",
   "metadata": {},
   "source": [
    "<font size=\"3\">model sequence</font>"
   ]
  },
  {
   "cell_type": "code",
   "execution_count": 22,
   "metadata": {},
   "outputs": [],
   "source": [
    "input1 = Input(shape = (max_len,))\n",
    "embedding1 = Embedding(vocab_len , 100)(input1)\n",
    "dropout1 = Dropout(0.2)(embedding1)\n",
    "conv1 = Conv1D(filters=32, kernel_size=4, activation='relu')(dropout1)\n",
    "maxpool1 = MaxPool1D(pool_size=2)(conv1)\n",
    "flatten = Flatten()(maxpool1)\n",
    "dense2 = Dense(64, activation='relu')(flatten)\n",
    "dropout2 = Dropout(0.2)(dense2)\n",
    "dense3 = Dense(10, activation='relu')(dropout2)\n",
    "dropout3 = Dropout(0.5)(dense3)\n",
    "output = Dense(1 , activation='sigmoid')(dropout3)"
   ]
  },
  {
   "cell_type": "code",
   "execution_count": 23,
   "metadata": {},
   "outputs": [],
   "source": [
    "model = Model(inputs=[input1] , outputs=output)"
   ]
  },
  {
   "cell_type": "code",
   "execution_count": 24,
   "metadata": {},
   "outputs": [
    {
     "name": "stdout",
     "output_type": "stream",
     "text": [
      "Model: \"model\"\n",
      "_________________________________________________________________\n",
      " Layer (type)                Output Shape              Param #   \n",
      "=================================================================\n",
      " input_1 (InputLayer)        [(None, 1693)]            0         \n",
      "                                                                 \n",
      " embedding (Embedding)       (None, 1693, 100)         4052400   \n",
      "                                                                 \n",
      " dropout (Dropout)           (None, 1693, 100)         0         \n",
      "                                                                 \n",
      " conv1d (Conv1D)             (None, 1690, 32)          12832     \n",
      "                                                                 \n",
      " max_pooling1d (MaxPooling1  (None, 845, 32)           0         \n",
      " D)                                                              \n",
      "                                                                 \n",
      " flatten (Flatten)           (None, 27040)             0         \n",
      "                                                                 \n",
      " dense (Dense)               (None, 64)                1730624   \n",
      "                                                                 \n",
      " dropout_1 (Dropout)         (None, 64)                0         \n",
      "                                                                 \n",
      " dense_1 (Dense)             (None, 10)                650       \n",
      "                                                                 \n",
      " dropout_2 (Dropout)         (None, 10)                0         \n",
      "                                                                 \n",
      " dense_2 (Dense)             (None, 1)                 11        \n",
      "                                                                 \n",
      "=================================================================\n",
      "Total params: 5796517 (22.11 MB)\n",
      "Trainable params: 5796517 (22.11 MB)\n",
      "Non-trainable params: 0 (0.00 Byte)\n",
      "_________________________________________________________________\n"
     ]
    }
   ],
   "source": [
    "model.summary()"
   ]
  },
  {
   "cell_type": "code",
   "execution_count": 25,
   "metadata": {},
   "outputs": [],
   "source": [
    "model.compile(optimizer=Adam(learning_rate=0.001) , loss='binary_crossentropy' , metrics=['accuracy'])"
   ]
  },
  {
   "cell_type": "markdown",
   "metadata": {},
   "source": [
    "<font size=\"3\">tokenization and pad sequence on test data</font"
   ]
  },
  {
   "cell_type": "code",
   "execution_count": 26,
   "metadata": {},
   "outputs": [],
   "source": [
    "encoded_test = tokenizer.texts_to_sequences(x_test)\n",
    "padded_test = pad_sequences(encoded_test, maxlen=max_len, padding='post')"
   ]
  },
  {
   "cell_type": "code",
   "execution_count": 27,
   "metadata": {},
   "outputs": [
    {
     "data": {
      "text/plain": [
       "(400, 1693)"
      ]
     },
     "execution_count": 27,
     "metadata": {},
     "output_type": "execute_result"
    }
   ],
   "source": [
    "padded_test.shape"
   ]
  },
  {
   "cell_type": "markdown",
   "metadata": {},
   "source": [
    "<font size=3>### Callbacks in Model Training\n",
    "\n",
    "In deep learning, callbacks are a way to customize the training process by monitoring and taking actions based on the performance during training. Below are the callbacks used in this model:\n",
    "\n",
    "#### 1. Early Stopping\n",
    "This callback monitors the validation loss and stops training if the loss does not improve after a specified number of epochs (patience). It helps to avoid overfitting by preventing unnecessary training when the model has reached its best performance.\n",
    "\n",
    "`python\n",
    "early_stop = EarlyStopping(monitor='val_loss', patience=50, mode='min')\n",
    "\n",
    "monitor='val_loss': Monitors the validation loss during training.\n",
    "\n",
    "patience=8: Stops training if no improvement in validation loss after 50 epochs.\n",
    "\n",
    "mode='min': The training will stop when the monitored value (validation loss) has stopped decreasing.\n",
    "\n",
    "\n",
    "2. Reduce Learning Rate on Plateau\n",
    "\n",
    "This callback reduces the learning rate by a specified factor if the validation loss plateaus for a certain number of epochs. It helps to fine-tune the model's performance after initial improvements.\n",
    "\n",
    "rlop = ReduceLROnPlateau(monitor='val_loss', patience=50, factor=0.2, min_lr=0.001)\n",
    "\n",
    "monitor='val_loss': Monitors the validation loss to detect when to reduce the learning rate.\n",
    "\n",
    "patience=7: Number of epochs with no improvement before reducing the learning rate.\n",
    "\n",
    "factor=0.5: The factor by which the learning rate will be reduced.\n",
    "\n",
    "min_lr=0.001: The lower bound for the learning rate.\n",
    "\n",
    "\n",
    "3. Model Checkpoint\n",
    "\n",
    "This callback saves the best model based on the lowest validation loss during training, ensuring that the best performing model is retained.\n",
    "\n",
    "check_point = ModelCheckpoint('best_text_model2.h5', monitor='val_loss', mode='min', save_best_only=True)\n",
    "\n",
    "monitor='val_loss': Saves the model with the lowest validation loss.\n",
    "\n",
    "mode='min': Monitors when the validation loss is minimized.\n",
    "\n",
    "save_best_only=True: Saves only the best model (with the lowest validation loss).\n",
    "\n",
    "\n",
    "Final Integration in Training\n",
    "\n",
    "These callbacks are then passed into the model.fit() method, ensuring they are used during training:\n",
    "\n",
    "history = model.fit(x_train, y_train, validation_data=(x_test, y_test), callbacks=[early_stop, rlop, check_point])\n",
    "\n",
    "Using these callbacks, the training process is optimized, ensuring the model's best performance while avoiding overfitting and unnecessary training</font>"
   ]
  },
  {
   "cell_type": "code",
   "execution_count": 28,
   "metadata": {},
   "outputs": [],
   "source": [
    "early_stop = EarlyStopping(monitor='val_loss' , patience=8, mode='min' )\n",
    "rlop = ReduceLROnPlateau(monitor='val_loss' , patience=7, factor=0.5 , min_lr=0.001)\n",
    "check_point =  ModelCheckpoint('best_text_model2.h5' , monitor='val_loss' , model='min' , save_best_only=True)"
   ]
  },
  {
   "cell_type": "markdown",
   "metadata": {},
   "source": [
    "<font size=\"5\"><b>fiting the model</b></font>"
   ]
  },
  {
   "cell_type": "code",
   "execution_count": 29,
   "metadata": {},
   "outputs": [
    {
     "name": "stdout",
     "output_type": "stream",
     "text": [
      "Epoch 1/20\n",
      "32/32 [==============================] - 6s 152ms/step - loss: 0.6926 - accuracy: 0.5369 - val_loss: 0.6900 - val_accuracy: 0.5400 - lr: 0.0010\n",
      "Epoch 2/20\n"
     ]
    },
    {
     "name": "stderr",
     "output_type": "stream",
     "text": [
      "c:\\Users\\T A T\\AppData\\Local\\Programs\\Python\\Python38\\lib\\site-packages\\keras\\src\\engine\\training.py:3000: UserWarning: You are saving your model as an HDF5 file via `model.save()`. This file format is considered legacy. We recommend using instead the native Keras format, e.g. `model.save('my_model.keras')`.\n",
      "  saving_api.save_model(\n"
     ]
    },
    {
     "name": "stdout",
     "output_type": "stream",
     "text": [
      "32/32 [==============================] - 5s 146ms/step - loss: 0.6812 - accuracy: 0.5419 - val_loss: 0.6900 - val_accuracy: 0.5375 - lr: 0.0010\n",
      "Epoch 3/20\n",
      "32/32 [==============================] - 5s 149ms/step - loss: 0.6397 - accuracy: 0.6000 - val_loss: 0.6832 - val_accuracy: 0.5750 - lr: 0.0010\n",
      "Epoch 4/20\n",
      "32/32 [==============================] - 5s 151ms/step - loss: 0.4890 - accuracy: 0.7781 - val_loss: 0.6216 - val_accuracy: 0.6475 - lr: 0.0010\n",
      "Epoch 5/20\n",
      "32/32 [==============================] - 5s 152ms/step - loss: 0.2083 - accuracy: 0.9294 - val_loss: 0.5580 - val_accuracy: 0.7350 - lr: 0.0010\n",
      "Epoch 6/20\n",
      "32/32 [==============================] - 5s 144ms/step - loss: 0.1034 - accuracy: 0.9650 - val_loss: 0.5834 - val_accuracy: 0.7375 - lr: 0.0010\n",
      "Epoch 7/20\n",
      "32/32 [==============================] - 5s 147ms/step - loss: 0.0650 - accuracy: 0.9812 - val_loss: 0.6849 - val_accuracy: 0.7775 - lr: 0.0010\n",
      "Epoch 8/20\n",
      "32/32 [==============================] - 5s 154ms/step - loss: 0.0680 - accuracy: 0.9862 - val_loss: 0.6729 - val_accuracy: 0.7525 - lr: 0.0010\n",
      "Epoch 9/20\n",
      "32/32 [==============================] - 5s 150ms/step - loss: 0.0483 - accuracy: 0.9919 - val_loss: 0.8187 - val_accuracy: 0.7325 - lr: 0.0010\n",
      "Epoch 10/20\n",
      "32/32 [==============================] - 5s 150ms/step - loss: 0.0510 - accuracy: 0.9906 - val_loss: 1.0689 - val_accuracy: 0.7450 - lr: 0.0010\n",
      "Epoch 11/20\n",
      "32/32 [==============================] - 5s 146ms/step - loss: 0.0460 - accuracy: 0.9887 - val_loss: 0.8838 - val_accuracy: 0.7575 - lr: 0.0010\n",
      "Epoch 12/20\n",
      "32/32 [==============================] - 5s 142ms/step - loss: 0.0538 - accuracy: 0.9875 - val_loss: 0.8535 - val_accuracy: 0.7900 - lr: 0.0010\n",
      "Epoch 13/20\n",
      "32/32 [==============================] - 5s 142ms/step - loss: 0.0520 - accuracy: 0.9912 - val_loss: 0.7880 - val_accuracy: 0.7925 - lr: 0.0010\n"
     ]
    }
   ],
   "source": [
    "history = model.fit([padded], np.array(y_train), epochs=20, batch_size=50, validation_data=([padded_test], np.array(y_test)) , callbacks=[early_stop , check_point , rlop])"
   ]
  },
  {
   "cell_type": "markdown",
   "metadata": {},
   "source": [
    "<font size=\"3\">visualization train loss and validation loss</font>\n"
   ]
  },
  {
   "cell_type": "code",
   "execution_count": 30,
   "metadata": {},
   "outputs": [
    {
     "data": {
      "text/plain": [
       "[<matplotlib.lines.Line2D at 0x2b8d7b7b370>]"
      ]
     },
     "execution_count": 30,
     "metadata": {},
     "output_type": "execute_result"
    },
    {
     "data": {
      "image/png": "[encoded data removed]",
      "text/plain": [
       "<Figure size 640x480 with 1 Axes>"
      ]
     },
     "metadata": {},
     "output_type": "display_data"
    }
   ],
   "source": [
    "import matplotlib.pyplot as plt\n",
    "plt.plot(history.history['loss'] , c='g')\n",
    "plt.plot(history.history['val_loss'] , c='r')"
   ]
  },
  {
   "cell_type": "markdown",
   "metadata": {},
   "source": [
    "<font size=\"3\">visualization train accuracy and validation accuracy</font>\n"
   ]
  },
  {
   "cell_type": "code",
   "execution_count": 31,
   "metadata": {},
   "outputs": [
    {
     "data": {
      "text/plain": [
       "[<matplotlib.lines.Line2D at 0x2b8d7d7a070>]"
      ]
     },
     "execution_count": 31,
     "metadata": {},
     "output_type": "execute_result"
    },
    {
     "data": {
      "image/png": "[encoded data removed]",
      "text/plain": [
       "<Figure size 640x480 with 1 Axes>"
      ]
     },
     "metadata": {},
     "output_type": "display_data"
    }
   ],
   "source": [
    "plt.plot(history.history['accuracy'] , c='g')\n",
    "plt.plot(history.history['val_accuracy'] , c='r')"
   ]
  },
  {
   "cell_type": "markdown",
   "metadata": {},
   "source": [
    "<font size=\"3\">save tokenizer with pickle</font>\n"
   ]
  },
  {
   "cell_type": "code",
   "execution_count": 32,
   "metadata": {},
   "outputs": [],
   "source": [
    "# import pickle\n",
    "# with open('tokenizer.h5' , 'wb') as file:\n",
    "#     pickle.dump(tokenizer , file)"
   ]
  },
  {
   "cell_type": "code",
   "execution_count": 33,
   "metadata": {},
   "outputs": [
    {
     "name": "stdout",
     "output_type": "stream",
     "text": [
      "b'if anything , \" stigmata \" should be taken as a warning against releasing similarly-themed films relatively close to one another . \\nof the four supernatural horror flicks released this year , it is clearly the worst . \\ni suppose i should have seen this coming . \\nafter all , \" blair witch \" thoroughly creeped me out , \" sixth sense \" was mildly spooky , and then \" stir of echoes \" had its moments , but wasn\\'t anything i\\'d lose sleep over . \\nclearly , the quality of the horror this summer has slowly been dropping . \\nis it then any surprise that \" stigmata \" is the dullest , most horribly executed piece of mtv-influenced tripe i have seen in a long while ? \\nno , not really . \\npatricia arquette plays frankie page , a hairdresser from pittsburgh who receives a rosary as a gift from her globe-trotting mother . \\nas it turns out , the rosary belonged to a recently-deceased brazilian priest . \\nthe priest\\'s church had been under investigation by father andrew kiernan ( gabriel byrne ) because of the mysterious appearance of a bleeding statue . \\nfather kiernan is an investigator who has made a career out of disproving supposed religious signs , but this time he believes there is something to the bleeding statue . \\nhis investigation is soon called off , however , when the frankie starts exhibiting signs of the stigmata , in which a person is inflicted with wounds like that of jesus christ . \\nfather kiernan is initially skeptical of frankie\\' s story , considering she\\'s an atheist , but once he witnesses the stigmata attacks himself , he dedicates himself to finding out what is going on . \\nhe eventually begins to suspect that his boss , cardinal houseman ( jonathan pryce ) , is concealing something that could bring down the catholic church . \\nas it turns out , the dead priest had been working on the translation of a \" fifth gospel \" before they were excommunicated . \\nthe new rupert wainwright music video . \\n . \\n . \\ni mean film \" stigmata \" is the sort of film that starts off ok and only gets worse . \\nindeed , it would have been good if it were a music video , because it\\'s only interesting for about five minutes . \\ni\\'m not sure what wainwright is trying to prove with his endless parade of slow-motion , double-exposure , and extreme close-ups ( whoaaaaaa ! ! ! ! ) , other than the fact that he has the most swelled head of any director in hollywood and , yes , he has been to film school . \\nhis camera trickery is interesting for a little while , but eventually , it becomes headache-inducing . \\nwhat this film needed is a second audio track to be played over the dialogue ( such as it is ) , with wainwright screaming at the audience , \" see ? \\nlook at what i can do ! \\ni\\'m an ex-cellent dir-ect-or . \" \\nmaybe then he\\'d explain why he decided to start half of his scenes with slow-motion shots of water dripping in reverse , or why he included random superfluous shots as that of an egg frying ( ooh , scary ! ) . \\nif there was some underlying meaning behind all this camera trickery , i didn\\'t see it . \\njust when you thought it was safe to get involved in the story , here comes a double-exposure shot of two patricia arquettes collapsing into bed for no reason whatsoever . \\narrrrrrrghhhh . \\n . \\n . \\nthen again , the superfluous camera trickery wouldn\\'t bother me if \" stigmata \" had a story or characters that were remotely engaging . \\nthough wainwright\\'s vanity certainly doesn\\'t help , he does seem to have been given a nearly unworkable script . \\nwhere are plot continuity and character development when you need them ? \\ncase in point : frankie page is the character that ( i assume ) we are supposed to identify and sympathize with , but we aren\\'t given any back story on her character , or any reason to like her . \\nthe extent of her character development seems to be that she is a hard-working hairdresser ( who can somehow afford a cavernous apartment on the top floor of her building ) and she\\'s kind of cute , so let\\'s start the bleeding ! \\nthe fact that she\\'s clearly not the brightest bulb in the drawer doesn\\'t help , either . \\naccording to frankie page , what is the first thing to do after receiving mysterious wounds on your wrists and back ? \\ngo clubbing ! \\nsure , that makes sense . \\narquette , byrne , and pryce give it the old college try , but their characters are so one-dimensional that they just appear to be sleepwalking . \\nscenes between arquette and byrne that were probably supposed to be sexually charged fall almost embarrassingly flat , because the setup of the romantic subplot is so clumsily handled that it almost reaches the point of becoming laughable . \\neven though frankie page\\'s life is falling apart before her very eyes , she still finds the time to hit on a priest who wanders in to her hair salon . \\neven more curiously , he seems to be interested in her advances . \\nfather andrew\\'s religious doubt pops up so suddenly that it seems more silly than dramatic . \\nas for pryce , he may as well wear a curled mustache and cackle , \" i\\'ll get you , my pretty , \" for all the depth his cardinal houseman is afforded . \\ntrust me , i\\'m not revealing anything by telling you pryce turns out to be a villain . \\nwhat\\'s worse , after being faced with dull characters and the prospect of having annoying camera tricks and loud music jammed down our throats , we now have to contend with a story that starts off in one direction , veers off in another , then another , and ends up being totally incomprehensible . \\nfirst of all , the film doesn\\'t even bother to explain what should be very simple plot details . how does frankie get the stigmata merely by touching a rosary ? \\nhow come an atheist like her was chosen , since father andrew mentions that only very devout believers have ever received stigmata ? \\nactually , i\\'m not sure what frankie was posessed by . \\nsupposedly , stigmata occurs when one is posessed by the holy spirit , but the film later has her being posessed by the dead priest , and later by some evil spirit ( i think ) . \\nwhich one is it ? \\nthe answer to this question , of course , is very simple : the possessing entity in each scene is determined by whichever effects and flashy camera work mr . wainwright wants to use this time . \\nfurthermore , the ending is a ridiculously neat little wrap-up , and the filmmakers compound this problem by ultimately turning the film into a diatribe against the catholic church . \\nif you do any research at all about the gospel of st . thomas , you\\'ll find that it is not being suppressed by the church ( as the film seems to claim ) , but that it is readily available at your local library . \\nthere\\'s nothing the catholics need to worry about , though . \\n \" stigmata\\'s \" religion is so off-base that it can\\'t be confused for anything remotely resembling the real catholic church . \\nif they wanted to portray catholic priests as mobsters , they should have gone all-out and equipped them with sharkskin suits and tommy guns , which would have been far more interesting . \\ni\\'m not catholic ; in fact , i don \\'t care much for the catholic church , but its cartoonish misrepresentation in this film should not be considered realistic by any means . \\nit\\'s rare to see a film that fails on as many levels as \" stigmata \" does . \\nit\\' s not thought-provoking , though it would like to be , and it is definitely not scary , though it pretends to be . \\ni\\'m not sure why they tried to pass this off as a horror film , because there is absolutely nothing scary about the story . \\nmaybe it\\'s an attempt to cover up the fact that none of the scenes have any dramatic weight whatsoever . \\nthe initial shock of seeing arquette covered with blood is dulled by the fact that it happens over , and over , and over . \\nlike so many films of the mtv generation , this one suffers from overkill . \\nso much is overdone in \" stigmata , \" that it eventually has no effect on the audience , leaving us to pick out the film\\'s ( many ) flaws . \\ni\\'m also still trying to figure out why the quotation they take from the gospel of st . thomas is so earth-shattering . \\nwhen we finally hear it , the saying sounds like something every five-year-old learns on their first day of sunday school , which means that for all its flash , the whole film is really much ado about nothing . \\nthe dog days of summer usually produce one monstrous dog , and \" stigmata \" is it . \\n'\n"
     ]
    }
   ],
   "source": [
    "with open('data/neg/cv995_23113.txt' , 'rb') as f:\n",
    "    text = f.read()\n",
    "\n",
    "print(text)"
   ]
  },
  {
   "cell_type": "markdown",
   "metadata": {},
   "source": [
    "<font size=\"3\">load tokenizer and model for prediction</font>"
   ]
  },
  {
   "cell_type": "code",
   "execution_count": 34,
   "metadata": {},
   "outputs": [
    {
     "data": {
      "text/plain": [
       "<keras.src.engine.functional.Functional at 0x2b8d7c9f1f0>"
      ]
     },
     "execution_count": 34,
     "metadata": {},
     "output_type": "execute_result"
    }
   ],
   "source": [
    "tokenizer = joblib.load('./tokenizer.joblib')\n",
    "\n",
    "model = load_model('best_text_model2.h5')\n",
    "model"
   ]
  },
  {
   "cell_type": "code",
   "execution_count": 35,
   "metadata": {},
   "outputs": [],
   "source": [
    "def prediction_text(text_path):\n",
    "    text_for_predict = []\n",
    "    with open(text_path) as f :\n",
    "        text = f.read()\n",
    "        tokens = word_tokenize(text)\n",
    "        translator = str.maketrans('', '', punctuation)\n",
    "        tokens = [w.translate(translator) for w in tokens]\n",
    "        tokens = [w for w in tokens if not w in stop_words]\n",
    "        text_for_predict.append(' '.join(tokens))\n",
    "        encoded = tokenizer.texts_to_sequences(text_for_predict)\n",
    "        padded = pad_sequences(encoded, maxlen=max_len, padding='post')\n",
    "        prediction =model.predict([padded])\n",
    "        if prediction[0][0] > 0.5:\n",
    "            print(f'Positive text with probability : {prediction[0][0]}')\n",
    "        else:\n",
    "            print(f'Negative text with probability : {prediction[0][0]}')"
   ]
  },
  {
   "cell_type": "code",
   "execution_count": 36,
   "metadata": {},
   "outputs": [
    {
     "name": "stdout",
     "output_type": "stream",
     "text": [
      "1/1 [==============================] - 0s 103ms/step\n",
      "Positive text with probability : 0.9927292466163635\n"
     ]
    }
   ],
   "source": [
    "prediction_text('data/pos/' + 'cv011_12166.txt')"
   ]
  },
  {
   "cell_type": "code",
   "execution_count": 37,
   "metadata": {},
   "outputs": [
    {
     "name": "stdout",
     "output_type": "stream",
     "text": [
      "1/1 [==============================] - 0s 8ms/step\n",
      "Positive text with probability : 0.9431740045547485\n"
     ]
    }
   ],
   "source": [
    "prediction_text(('data/pos/' + 'cv981_14989.txt'))"
   ]
  },
  {
   "cell_type": "code",
   "execution_count": 38,
   "metadata": {},
   "outputs": [
    {
     "name": "stdout",
     "output_type": "stream",
     "text": [
      "1/1 [==============================] - 0s 22ms/step\n",
      "Positive text with probability : 0.9538365602493286\n"
     ]
    }
   ],
   "source": [
    "prediction_text(('data/pos/' + 'cv998_14111.txt'))"
   ]
  },
  {
   "cell_type": "code",
   "execution_count": 39,
   "metadata": {},
   "outputs": [
    {
     "name": "stdout",
     "output_type": "stream",
     "text": [
      "1/1 [==============================] - 0s 21ms/step\n",
      "Positive text with probability : 0.7224131226539612\n"
     ]
    }
   ],
   "source": [
    "prediction_text('data/pos/' + 'cv993_29737.txt')"
   ]
  },
  {
   "cell_type": "code",
   "execution_count": 40,
   "metadata": {},
   "outputs": [
    {
     "name": "stdout",
     "output_type": "stream",
     "text": [
      "1/1 [==============================] - 0s 19ms/step\n",
      "Negative text with probability : 0.007243166211992502\n"
     ]
    }
   ],
   "source": [
    "prediction_text('data/neg/' + 'cv014_15600.txt')"
   ]
  },
  {
   "cell_type": "code",
   "execution_count": 41,
   "metadata": {},
   "outputs": [
    {
     "name": "stdout",
     "output_type": "stream",
     "text": [
      "1/1 [==============================] - 0s 21ms/step\n",
      "Negative text with probability : 0.48765692114830017\n"
     ]
    }
   ],
   "source": [
    "prediction_text('data/neg/' + 'cv964_5794.txt')"
   ]
  },
  {
   "cell_type": "code",
   "execution_count": 42,
   "metadata": {},
   "outputs": [
    {
     "name": "stdout",
     "output_type": "stream",
     "text": [
      "1/1 [==============================] - 0s 23ms/step\n",
      "Positive text with probability : 0.880907416343689\n"
     ]
    }
   ],
   "source": [
    "prediction_text('data/neg/' + 'cv973_10171.txt')"
   ]
  },
  {
   "cell_type": "code",
   "execution_count": 43,
   "metadata": {},
   "outputs": [
    {
     "name": "stdout",
     "output_type": "stream",
     "text": [
      "1/1 [==============================] - 0s 16ms/step\n",
      "Positive text with probability : 0.9795346260070801\n"
     ]
    }
   ],
   "source": [
    "prediction_text('data/pos/' + 'cv555_23922.txt')"
   ]
  },
  {
   "cell_type": "code",
   "execution_count": 67,
   "metadata": {},
   "outputs": [
    {
     "name": "stdout",
     "output_type": "stream",
     "text": [
      "1/1 [==============================] - 0s 29ms/step\n",
      "Negative text with probability : 0.3930022120475769\n"
     ]
    }
   ],
   "source": [
    "prediction_text('./data//sample_for_test/1.txt')"
   ]
  },
  {
   "cell_type": "code",
   "execution_count": 68,
   "metadata": {},
   "outputs": [
    {
     "name": "stdout",
     "output_type": "stream",
     "text": [
      "1/1 [==============================] - 0s 18ms/step\n",
      "Negative text with probability : 0.3747851550579071\n"
     ]
    }
   ],
   "source": [
    "prediction_text('./data//sample_for_test/2.txt')"
   ]
  },
  {
   "cell_type": "code",
   "execution_count": null,
   "metadata": {},
   "outputs": [
    {
     "name": "stdout",
     "output_type": "stream",
     "text": [
      "1/1 [==============================] - 0s 15ms/step\n",
      "Negative text with probability : 0.2978164851665497\n"
     ]
    }
   ],
   "source": [
    "prediction_text('./data//sample_for_test/3.txt')"
   ]
  },
  {
   "cell_type": "code",
   "execution_count": null,
   "metadata": {},
   "outputs": [
    {
     "name": "stdout",
     "output_type": "stream",
     "text": [
      "1/1 [==============================] - 0s 16ms/step\n",
      "Negative text with probability : 0.49191293120384216\n"
     ]
    }
   ],
   "source": [
    "prediction_text('./data//sample_for_test/4.txt')"
   ]
  },
  {
   "cell_type": "code",
   "execution_count": null,
   "metadata": {},
   "outputs": [
    {
     "name": "stdout",
     "output_type": "stream",
     "text": [
      "1/1 [==============================] - 0s 21ms/step\n",
      "Negative text with probability : 0.27861711382865906\n"
     ]
    }
   ],
   "source": [
    "prediction_text('./data//sample_for_test/5.txt')"
   ]
  },
  {
   "cell_type": "code",
   "execution_count": null,
   "metadata": {},
   "outputs": [
    {
     "name": "stdout",
     "output_type": "stream",
     "text": [
      "1/1 [==============================] - 0s 14ms/step\n",
      "Negative text with probability : 0.33081209659576416\n"
     ]
    }
   ],
   "source": [
    "prediction_text('./data//sample_for_test/6.txt')"
   ]
  },
  {
   "cell_type": "code",
   "execution_count": null,
   "metadata": {},
   "outputs": [
    {
     "name": "stdout",
     "output_type": "stream",
     "text": [
      "1/1 [==============================] - 0s 18ms/step\n",
      "Negative text with probability : 0.3153935968875885\n"
     ]
    }
   ],
   "source": [
    "prediction_text('./data//sample_for_test/7.txt')"
   ]
  },
  {
   "cell_type": "code",
   "execution_count": null,
   "metadata": {},
   "outputs": [
    {
     "name": "stdout",
     "output_type": "stream",
     "text": [
      "1/1 [==============================] - 0s 17ms/step\n",
      "Negative text with probability : 0.4315113425254822\n"
     ]
    }
   ],
   "source": [
    "prediction_text('./data//sample_for_test/8.txt')"
   ]
  },
  {
   "cell_type": "code",
   "execution_count": null,
   "metadata": {},
   "outputs": [
    {
     "name": "stdout",
     "output_type": "stream",
     "text": [
      "1/1 [==============================] - 0s 20ms/step\n",
      "Positive text with probability : 0.5163379907608032\n"
     ]
    }
   ],
   "source": [
    "prediction_text('./data//sample_for_test/9.txt')"
   ]
  },
  {
   "cell_type": "code",
   "execution_count": null,
   "metadata": {},
   "outputs": [
    {
     "name": "stdout",
     "output_type": "stream",
     "text": [
      "1/1 [==============================] - 0s 19ms/step\n",
      "Negative text with probability : 0.4124435484409332\n"
     ]
    }
   ],
   "source": [
    "prediction_text('./data//sample_for_test/10.txt')"
   ]
  },
  {
   "cell_type": "code",
   "execution_count": null,
   "metadata": {},
   "outputs": [
    {
     "name": "stdout",
     "output_type": "stream",
     "text": [
      "1/1 [==============================] - 0s 15ms/step\n",
      "Negative text with probability : 0.4837765097618103\n"
     ]
    }
   ],
   "source": [
    "prediction_text('./data//sample_for_test/11.txt')"
   ]
  },
  {
   "cell_type": "code",
   "execution_count": 59,
   "metadata": {},
   "outputs": [
    {
     "name": "stdout",
     "output_type": "stream",
     "text": [
      "1/1 [==============================] - 0s 16ms/step\n",
      "Negative text with probability : 0.48296159505844116\n"
     ]
    }
   ],
   "source": [
    "text = 'hello ! you are best man am happy you have me '\n",
    "text_for_predict = []\n",
    "tokens = word_tokenize(text)\n",
    "translator = str.maketrans('', '', punctuation)\n",
    "tokens = [w.translate(translator) for w in tokens]\n",
    "tokens = [w for w in tokens if not w in stop_words]\n",
    "text_for_predict.append(' '.join(tokens))\n",
    "encoded = tokenizer.texts_to_sequences(text_for_predict)\n",
    "padded = pad_sequences(encoded, maxlen=max_len, padding='post')\n",
    "prediction =model.predict([padded])\n",
    "if prediction[0][0] > 0.5:\n",
    "    print(f'Positive text with probability : {prediction[0][0]}')\n",
    "else:\n",
    "    print(f'Negative text with probability : {prediction[0][0]}')"
   ]
  }
 ],
 "metadata": {
  "kernelspec": {
   "display_name": "Python 3",
   "language": "python",
   "name": "python3"
  },
  "language_info": {
   "codemirror_mode": {
    "name": "ipython",
    "version": 3
   },
   "file_extension": ".py",
   "mimetype": "text/x-python",
   "name": "python",
   "nbconvert_exporter": "python",
   "pygments_lexer": "ipython3",
   "version": "3.8.10"
  }
 },
 "nbformat": 4,
 "nbformat_minor": 2
}
